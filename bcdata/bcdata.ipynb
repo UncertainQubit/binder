{
 "cells": [
  {
   "cell_type": "code",
   "execution_count": null,
   "metadata": {},
   "outputs": [],
   "source": [
    "import pandas as pd"
   ]
  },
  {
   "cell_type": "code",
   "execution_count": null,
   "metadata": {},
   "outputs": [],
   "source": [
    "account_parcels = pd.read_csv('https://raw.githubusercontent.com/UncertainQubit/binder/master/Account_Parcels')\n",
    "\n",
    "buildings = pd.read_csv('https://raw.githubusercontent.com/UncertainQubit/binder/master/Buildings.csv')\n",
    "\n",
    "owner_address = pd.read_csv('https://raw.githubusercontent.com/UncertainQubit/binder/master/Owner_Address.csv')\n",
    "\n",
    "sales = pd.read_csv('https://raw.githubusercontent.com/UncertainQubit/binder/master/Sales.csv')\n",
    "\n",
    "values = pd.read_csv('https://raw.githubusercontent.com/UncertainQubit/binder/master/Values.csv')"
   ]
  },
  {
   "cell_type": "code",
   "execution_count": null,
   "metadata": {},
   "outputs": [],
   "source": []
  }
 ],
 "metadata": {
  "kernelspec": {
   "display_name": "Python 3",
   "language": "python",
   "name": "python3"
  },
  "language_info": {
   "codemirror_mode": {
    "name": "ipython",
    "version": 3
   },
   "file_extension": ".py",
   "mimetype": "text/x-python",
   "name": "python",
   "nbconvert_exporter": "python",
   "pygments_lexer": "ipython3",
   "version": "3.6.4"
  }
 },
 "nbformat": 4,
 "nbformat_minor": 2
}
