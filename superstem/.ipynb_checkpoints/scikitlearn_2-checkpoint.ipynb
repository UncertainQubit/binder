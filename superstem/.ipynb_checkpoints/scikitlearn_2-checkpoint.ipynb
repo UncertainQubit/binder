{
 "cells": [
  {
   "cell_type": "code",
   "execution_count": 8,
   "metadata": {},
   "outputs": [
    {
     "data": {
      "text/plain": [
       "DecisionTreeRegressor(ccp_alpha=0.0, criterion='mse', max_depth=None,\n",
       "                      max_features=None, max_leaf_nodes=10000,\n",
       "                      min_impurity_decrease=0.0, min_impurity_split=None,\n",
       "                      min_samples_leaf=1, min_samples_split=2,\n",
       "                      min_weight_fraction_leaf=0.0, presort='deprecated',\n",
       "                      random_state=None, splitter='best')"
      ]
     },
     "execution_count": 8,
     "metadata": {},
     "output_type": "execute_result"
    }
   ],
   "source": [
    "#Initial Setup Code\n",
    "import pandas as pd\n",
    "from sklearn.metrics import mean_absolute_error\n",
    "from sklearn.model_selection import train_test_split\n",
    "from sklearn.tree import DecisionTreeRegressor\n",
    "\n",
    "file_path = 'https://raw.githubusercontent.com/UncertainQubit/firstrepo/master/train.csv'\n",
    "\n",
    "data = pd.read_csv(file_path)\n",
    "\n",
    "y = data.SalePrice\n",
    "\n",
    "features = ['LotArea', 'YearBuilt', '1stFlrSF', '2ndFlrSF', 'FullBath', 'BedroomAbvGr', 'TotRmsAbvGrd']\n",
    "X = data[features]\n",
    "\n",
    "train_X, val_X, train_y, val_y = train_test_split(X, y, random_state=0)\n",
    "\n",
    "model = DecisionTreeRegressor(max_leaf_nodes = 10000)\n",
    "model.fit(train_X, train_y)"
   ]
  },
  {
   "cell_type": "code",
   "execution_count": 9,
   "metadata": {},
   "outputs": [
    {
     "name": "stdout",
     "output_type": "stream",
     "text": [
      "Training Mean Average Error (MAE): $73\n",
      "Validation Mean Average Error (MAE): $33,404\n"
     ]
    }
   ],
   "source": [
    "# Make training predictions and calculate mean absolute error\n",
    "train_predictions = model.predict(train_X)\n",
    "train_mae = mean_absolute_error(train_y, train_predictions)\n",
    "print(\"Training Mean Average Error (MAE): ${:,.0f}\".format(train_mae))\n",
    "\n",
    "# Make validation predictions and calculate mean absolute error\n",
    "val_predictions = model.predict(val_X)\n",
    "val_mae = mean_absolute_error(val_y, val_predictions)\n",
    "print(\"Validation Mean Average Error (MAE): ${:,.0f}\".format(val_mae))"
   ]
  },
  {
   "cell_type": "code",
   "execution_count": 10,
   "metadata": {},
   "outputs": [],
   "source": [
    "def get_mae(max_leaf_nodes, train_X, val_X, train_y, val_y):\n",
    "    model = DecisionTreeRegressor(max_leaf_nodes=max_leaf_nodes, random_state=0)\n",
    "    model.fit(train_X, train_y)\n",
    "    preds_val = model.predict(val_X)\n",
    "    mae = mean_absolute_error(val_y, preds_val)\n",
    "    return(mae)"
   ]
  },
  {
   "cell_type": "code",
   "execution_count": 11,
   "metadata": {},
   "outputs": [
    {
     "data": {
      "application/vnd.jupyter.widget-view+json": {
       "model_id": "4503654610f74a5ab37d5e7eb5abdc66",
       "version_major": 2,
       "version_minor": 0
      },
      "text/plain": [
       "interactive(children=(IntSlider(value=2, description='Number of Leaves:', max=200, min=2, step=10, style=Slide…"
      ]
     },
     "metadata": {},
     "output_type": "display_data"
    }
   ],
   "source": [
    "from __future__ import print_function\n",
    "from ipywidgets import interact, interactive, fixed, interact_manual\n",
    "import ipywidgets as widgets\n",
    "from ipywidgets import IntSlider\n",
    "def test(value):\n",
    "    print(get_mae(value, train_X, val_X, train_y, val_y))\n",
    "style = {'description_width': 'initial'}\n",
    "interact(test, value=widgets.IntSlider(min=2, max=200, step=10, description='Number of Leaves:', style=style, readout=True, continuous_update=True));"
   ]
  },
  {
   "cell_type": "code",
   "execution_count": 12,
   "metadata": {},
   "outputs": [
    {
     "name": "stdout",
     "output_type": "stream",
     "text": [
      "Best max_leaf_nodes = 82\n"
     ]
    }
   ],
   "source": [
    "candidate_max_leaf_nodes = list(range(2, 1000))\n",
    "scores = {leaf_size: get_mae(leaf_size, train_X, val_X, train_y, val_y) for leaf_size in candidate_max_leaf_nodes}\n",
    "best_tree_size = min(scores, key=scores.get)\n",
    "print('Best max_leaf_nodes = ' + str(best_tree_size))"
   ]
  },
  {
   "cell_type": "code",
   "execution_count": 13,
   "metadata": {},
   "outputs": [
    {
     "name": "stdout",
     "output_type": "stream",
     "text": [
      "Combined Mean Average Error (MAE): $17,776\n"
     ]
    }
   ],
   "source": [
    "final_model = DecisionTreeRegressor(max_leaf_nodes = best_tree_size, random_state = 0)\n",
    "final_model.fit(X,y)\n",
    "cmbd_predictions = final_model.predict(X)\n",
    "cmbd_mae = mean_absolute_error(y, cmbd_predictions)\n",
    "print(\"Combined Mean Average Error (MAE): ${:,.0f}\".format(cmbd_mae))"
   ]
  }
 ],
 "metadata": {
  "kernelspec": {
   "display_name": "Python 3",
   "language": "python",
   "name": "python3"
  },
  "language_info": {
   "codemirror_mode": {
    "name": "ipython",
    "version": 3
   },
   "file_extension": ".py",
   "mimetype": "text/x-python",
   "name": "python",
   "nbconvert_exporter": "python",
   "pygments_lexer": "ipython3",
   "version": "3.7.3"
  }
 },
 "nbformat": 4,
 "nbformat_minor": 4
}
