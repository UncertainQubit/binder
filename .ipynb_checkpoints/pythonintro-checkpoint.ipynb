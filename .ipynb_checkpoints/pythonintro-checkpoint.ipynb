{
 "cells": [
  {
   "cell_type": "markdown",
   "metadata": {},
   "source": [
    "# Introduction to Python\n",
    "Welcome to your crash course on one of the easiest programming languages to learn but also one of the most powerful. According to SlashData over 8.8 million developers use Python and 69% of machine learning developers and data scientists use Python, making it a must-know language for future careers in AI. This notebook is intended to give a barebones beginners or refresher course for Python in order to give you the basic understanding necessary for beginning to understand and create AI. If at any point you don't understand a concept below we encourage you to use the internet to find the answer. Python is one of the most common programming languages and, therefore, has massive amounts of resources and documentation online to help you learn. At the bottom of this notebook we also include a few good materials for reference and for continuing your learning which we encourage you to explore. Have fun!"
   ]
  },
  {
   "cell_type": "markdown",
   "metadata": {},
   "source": [
    "### Data Types\n",
    "This is not an exhaustive list of the data types and structures within Python but simply some of the most common that we will be using. In Python data is commonly stored under what are known as variables. A variable is simply some unique identifier that you (the programmer) give meaning by attaching it to some data. Vatiable names can be nearly anything (aside from a few reserved keywords) so you can be creative! However, it's good programming practice to give your variables understandable names based on their functions. Below we will explore how to declare variables in Python and what common types of data they can store."
   ]
  },
  {
   "cell_type": "code",
   "execution_count": 1,
   "metadata": {},
   "outputs": [
    {
     "name": "stdout",
     "output_type": "stream",
     "text": [
      "10\n"
     ]
    }
   ],
   "source": [
    "x = 10 #Declares our variable named x with a value of ten\n",
    "print(x)"
   ]
  },
  {
   "cell_type": "markdown",
   "metadata": {},
   "source": [
    "Above we define a variable called `x` that we assign the integer value of 10 to. Later, we use a Python function called `print()` to print out the value of our variable and we see that the output is 10, the value we assigned it. However, you are not restricted to just numbers when cretaing variables, Python offers a number of data types. An integer is a whole number (like 10) but coders often have to use more complex data types like the ones below."
   ]
  },
  {
   "cell_type": "code",
   "execution_count": 5,
   "metadata": {},
   "outputs": [
    {
     "name": "stdout",
     "output_type": "stream",
     "text": [
      "10.0\n"
     ]
    }
   ],
   "source": [
    "x = 10.0\n",
    "print(x)"
   ]
  },
  {
   "cell_type": "markdown",
   "metadata": {},
   "source": [
    "Another way of storing numeric data is with a data type called a float. Essentially, a float is just numeric data that includes a decimal point. However, Python offers many more types of data other than just numbers."
   ]
  },
  {
   "cell_type": "code",
   "execution_count": 6,
   "metadata": {},
   "outputs": [
    {
     "name": "stdout",
     "output_type": "stream",
     "text": [
      "hello\n"
     ]
    }
   ],
   "source": [
    "x = 'hello'\n",
    "print(x)"
   ]
  },
  {
   "cell_type": "markdown",
   "metadata": {},
   "source": [
    "Another common data type is a string which is essentally any form of written data. Strings can include spaces within them and therefore can store virtually any kind of written data.\n",
    "\n",
    "Although `x` works fine as a variable name it isn't very descriptive and can make our code harder to understand. A better variable name might be `greeting` because it tells us about what type of value it contains. You can't use spaces in your variable name but that has just led coders to be creative. Some common ways to declare variable names that contain more than one word are with underscores (My_Greetings) or camelCase where the first word is undercase while the second is uppercase (myGreetings) but you can do whatever works for you!"
   ]
  },
  {
   "cell_type": "code",
   "execution_count": 8,
   "metadata": {},
   "outputs": [
    {
     "name": "stdout",
     "output_type": "stream",
     "text": [
      "['Caleb', 'Grayson', 'Hannah', 'David', 'Estefania', 'Toby']\n"
     ]
    }
   ],
   "source": [
    "names = ['Caleb', 'Grayson', 'Hannah', 'David', 'Estefania', 'Toby']\n",
    "print(names)"
   ]
  },
  {
   "cell_type": "markdown",
   "metadata": {},
   "source": [
    "Another common data type is a list (sometimes also called an array) which, as per its name, stores a list of values which can include strings or numeric data."
   ]
  },
  {
   "cell_type": "code",
   "execution_count": 9,
   "metadata": {},
   "outputs": [
    {
     "name": "stdout",
     "output_type": "stream",
     "text": [
      "{'Fruits': ['Strawberry', 'Blackberry', 'Apple'], 'Veggies': ['Carrot', 'Broccoli', 'Lettuce']}\n"
     ]
    }
   ],
   "source": [
    "fruits_vs_veggies = {'Fruits' : ['Strawberry', 'Blackberry', 'Apple'], 'Veggies' : ['Carrot', 'Broccoli', 'Lettuce']}\n",
    "print(fruits_vs_veggies)"
   ]
  },
  {
   "cell_type": "markdown",
   "metadata": {},
   "source": [
    "The final type of data we'll cover is a dictionary which is similar to a list but connects two values. Similar to a dictionary it \"defines\" one value as another. Their use is a little hard to understand right now but will become obvious when we start to analyze data. If you ever unsure what type of data a variable contains you can use the function below. This is especially important if you are confronted with a different data type than the ones that we've covered above. We'll talk a little more about how functions work later but right now it's just important to understand how you can use functions such as `type()` to your advantage."
   ]
  },
  {
   "cell_type": "code",
   "execution_count": 11,
   "metadata": {},
   "outputs": [
    {
     "data": {
      "text/plain": [
       "dict"
      ]
     },
     "execution_count": 11,
     "metadata": {},
     "output_type": "execute_result"
    }
   ],
   "source": [
    "type(fruits_vs_veggies)"
   ]
  },
  {
   "cell_type": "markdown",
   "metadata": {},
   "source": [
    "### Manipulating Data\n",
    "Python offers a number of built-in functions to manipulate data such as  combining different types of data or converting data from one form to another. The most basic type of data manipulation is just math. Python supports a number of math operators."
   ]
  },
  {
   "cell_type": "code",
   "execution_count": 19,
   "metadata": {},
   "outputs": [
    {
     "name": "stdout",
     "output_type": "stream",
     "text": [
      "2\n"
     ]
    }
   ],
   "source": [
    "x = 1 + 1 #Addition!\n",
    "print(x)"
   ]
  },
  {
   "cell_type": "code",
   "execution_count": 20,
   "metadata": {},
   "outputs": [
    {
     "name": "stdout",
     "output_type": "stream",
     "text": [
      "1\n"
     ]
    }
   ],
   "source": [
    "x = x - 1 #Subtraction!\n",
    "print(x)"
   ]
  },
  {
   "cell_type": "code",
   "execution_count": 23,
   "metadata": {},
   "outputs": [
    {
     "name": "stdout",
     "output_type": "stream",
     "text": [
      "3.0\n"
     ]
    }
   ],
   "source": [
    "x= x * 3 #Multiplication!\n",
    "print(x)"
   ]
  },
  {
   "cell_type": "code",
   "execution_count": 24,
   "metadata": {},
   "outputs": [
    {
     "name": "stdout",
     "output_type": "stream",
     "text": [
      "1.5\n"
     ]
    }
   ],
   "source": [
    "x = x / 2 #Division!\n",
    "print(x)"
   ]
  },
  {
   "cell_type": "code",
   "execution_count": 27,
   "metadata": {},
   "outputs": [
    {
     "name": "stdout",
     "output_type": "stream",
     "text": [
      "2.25\n"
     ]
    }
   ],
   "source": [
    "x = x ** 2 #Exponents!\n",
    "print(x)"
   ]
  },
  {
   "cell_type": "markdown",
   "metadata": {},
   "source": [
    "Luckily Python doesn't just restrict data manipulation to numbers. We can also perform similar operations on strings, arrays, and dictionaries."
   ]
  },
  {
   "cell_type": "code",
   "execution_count": 46,
   "metadata": {},
   "outputs": [
    {
     "name": "stdout",
     "output_type": "stream",
     "text": [
      "Hello you\n"
     ]
    }
   ],
   "source": [
    "x = 'Hello ' + 'you' #We can add together two strings, appending one onto the end of another.\n",
    "print(x)"
   ]
  },
  {
   "cell_type": "code",
   "execution_count": 47,
   "metadata": {},
   "outputs": [
    {
     "name": "stdout",
     "output_type": "stream",
     "text": [
      "Hello\n"
     ]
    }
   ],
   "source": [
    "x = x[0:5] #Selects the first five characters of the string - 0, 1, 2, 3, 4 ending at the 6th character\n",
    "print(x)"
   ]
  },
  {
   "cell_type": "markdown",
   "metadata": {},
   "source": [
    "### Functions"
   ]
  },
  {
   "cell_type": "code",
   "execution_count": null,
   "metadata": {},
   "outputs": [],
   "source": []
  },
  {
   "cell_type": "markdown",
   "metadata": {},
   "source": [
    "### Loops"
   ]
  },
  {
   "cell_type": "code",
   "execution_count": null,
   "metadata": {},
   "outputs": [],
   "source": []
  },
  {
   "cell_type": "markdown",
   "metadata": {},
   "source": [
    "### Libraries"
   ]
  },
  {
   "cell_type": "code",
   "execution_count": null,
   "metadata": {},
   "outputs": [],
   "source": []
  },
  {
   "cell_type": "markdown",
   "metadata": {},
   "source": [
    "### Resources"
   ]
  },
  {
   "cell_type": "code",
   "execution_count": null,
   "metadata": {},
   "outputs": [],
   "source": []
  }
 ],
 "metadata": {
  "kernelspec": {
   "display_name": "Python 3",
   "language": "python",
   "name": "python3"
  },
  "language_info": {
   "codemirror_mode": {
    "name": "ipython",
    "version": 3
   },
   "file_extension": ".py",
   "mimetype": "text/x-python",
   "name": "python",
   "nbconvert_exporter": "python",
   "pygments_lexer": "ipython3",
   "version": "3.6.4"
  }
 },
 "nbformat": 4,
 "nbformat_minor": 2
}
