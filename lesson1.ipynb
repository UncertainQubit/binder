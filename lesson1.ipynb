{
 "cells": [
  {
   "cell_type": "markdown",
   "metadata": {},
   "source": [
    "# Innovation Center AI Team Lesson #1 - Data"
   ]
  },
  {
   "cell_type": "markdown",
   "metadata": {},
   "source": [
    "Today you learned about pandas, one of the most common libraries in data science. It is most commonly used to organize tabular data (data that can be found in table or spreadsheet form) such as housing prices in relation to their features as we will see today. This data is often stored in a type of file called a csv which stands for comma separated values. Essentially, it is a large collection of values separated by commas with headings in the first line as can be seen below.\n",
    "\n",
    "![](https://raw.githubusercontent.com/UncertainQubit/firstrepo/master/rawcsv.PNG)\n",
    "\n",
    "While this may sound like a strange, new type of file it is essentially just a table, in fact you can load csv files in spreadsheet software such as Excel.\n",
    "\n",
    "![](https://raw.githubusercontent.com/UncertainQubit/firstrepo/master/excelcsv.PNG)\n",
    "\n",
    "Today you will learn how to import datasets to your project, explore your data, and prepare it for use in a data science project. Stay tuned because next technical stream we will create a basic machine learning model using the dataset you explore today to predict housing prices!"
   ]
  },
  {
   "cell_type": "markdown",
   "metadata": {},
   "source": [
    "### Setup\n",
    "All this code does is import the pandas library. Python libraries are essentially just large collections of code that we can use to make our job as programmers easier. Rather than writing many hundreds of line to perform simple tasks we can use functions included in these libraries. A typical function will include the name of the library then the name of the function (or action to perform) and then some input (such as a file)."
   ]
  },
  {
   "cell_type": "code",
   "execution_count": 5,
   "metadata": {},
   "outputs": [],
   "source": [
    "import pandas as pd #imports the package we need and renames it to pd for a little less typing :)"
   ]
  },
  {
   "cell_type": "markdown",
   "metadata": {},
   "source": [
    "### Finding and Importing a Dataset"
   ]
  },
  {
   "cell_type": "markdown",
   "metadata": {},
   "source": [
    "Finding good data is one of the most important jobs for those wishng to create machine learning models. According to Dimensional Research 8 out of 10 AI projects fail, and 96% of those failures are due to a lack of data quality. Free datasets can be found in a number of places online. Often local and federal agencies will have free-to-use datasets as may companies seeking data science expertise. Some good tools to look for datasets include [Google Dataset Search](https://datasetsearch.research.google.com/) which searches the internet for open-source datasets and [Kaggle](https://www.kaggle.com/datasets), a free data science platform with over 33,000 datasets and counting created by users. The data we will be using today is from Kaggle, entitled [\"Melbourne Housing Dataset\"](https://www.kaggle.com/anthonypino/melbourne-housing-market) and created by Kaggle user Tony Pino.\n",
    "\n",
    "Google Dataset Search:\n",
    "\n",
    "![](https://raw.githubusercontent.com/UncertainQubit/firstrepo/master/datasetsearch.PNG)\n",
    "\n",
    "Kaggle Datasets:\n",
    "\n",
    "![](https://raw.githubusercontent.com/UncertainQubit/firstrepo/master/Kaggledatasetsearch.PNG)\n",
    "\n",
    "To import this dataset we will use the pandas function `read_csv` where our input is a link to the csv holding the data located in a Github repository. Most online datasets will have a file hosted online, if they don't you can either download the dataset to a Github repository (as we've done) or, if you're using an Anaconda distribution on your computer, you can call a file hosted locally, i.e. 'C:\\Users\\user\\Documents\\dataset'. We store our dataset as a pandas object called a dataframe (essentially a table) under the variable `df`."
   ]
  },
  {
   "cell_type": "code",
   "execution_count": 6,
   "metadata": {},
   "outputs": [],
   "source": [
    "#creates the variable df that stores our csv file as a pandas dataframe\n",
    "df = pd.read_csv('https://raw.githubusercontent.com/UncertainQubit/binder/master/Melbourne_housing_FULL.csv')"
   ]
  },
  {
   "cell_type": "markdown",
   "metadata": {},
   "source": [
    "### Basics of Pandas\n",
    "Before you begin to explore your data it is important to understand some of the powerful features contained within pandas. Pandas makes it easy to create dataframes with the command `pd.DataFrame`. There are a few different ways to add data to a dataframe but the most common way that we will use throughout this tutotial is through the use of dictionaries. Dictionaries are a type of object in python that, similar to a dictionary match one value to another. Dictionaries are an easy way to create dataframes because one value provides a column name while its associated values make up the rows. In the example below we create a dictionary consisting of two associations, 'Fruit' along with an array containing the names of fruits and 'Veggies' containing the names of various vegetables."
   ]
  },
  {
   "cell_type": "code",
   "execution_count": 141,
   "metadata": {},
   "outputs": [
    {
     "name": "stdout",
     "output_type": "stream",
     "text": [
      "{'Fruit': ['strawberry', 'apple', 'banana', 'strawberry'], 'Veggies': ['carrot', 'broccoli', 'lettuce', 'carrot']}\n"
     ]
    }
   ],
   "source": [
    "#Creates a simple dictionary\n",
    "dictionary = {'Fruit' : ['strawberry', 'apple', 'banana', 'strawberry'], 'Veggies' : ['carrot', 'broccoli', 'lettuce', 'carrot']}\n",
    "print(dictionary)"
   ]
  },
  {
   "cell_type": "markdown",
   "metadata": {},
   "source": [
    "That dictionary doesn't look very intuitive and certainly doesn't look like the tables above. However, we can easily turn this dictionary into a simple Dataframe and then use powerful pandas functions to manipulate it."
   ]
  },
  {
   "cell_type": "code",
   "execution_count": 142,
   "metadata": {},
   "outputs": [
    {
     "data": {
      "text/html": [
       "<div>\n",
       "<style scoped>\n",
       "    .dataframe tbody tr th:only-of-type {\n",
       "        vertical-align: middle;\n",
       "    }\n",
       "\n",
       "    .dataframe tbody tr th {\n",
       "        vertical-align: top;\n",
       "    }\n",
       "\n",
       "    .dataframe thead th {\n",
       "        text-align: right;\n",
       "    }\n",
       "</style>\n",
       "<table border=\"1\" class=\"dataframe\">\n",
       "  <thead>\n",
       "    <tr style=\"text-align: right;\">\n",
       "      <th></th>\n",
       "      <th>Fruit</th>\n",
       "      <th>Veggies</th>\n",
       "    </tr>\n",
       "  </thead>\n",
       "  <tbody>\n",
       "    <tr>\n",
       "      <th>0</th>\n",
       "      <td>strawberry</td>\n",
       "      <td>carrot</td>\n",
       "    </tr>\n",
       "    <tr>\n",
       "      <th>1</th>\n",
       "      <td>apple</td>\n",
       "      <td>broccoli</td>\n",
       "    </tr>\n",
       "    <tr>\n",
       "      <th>2</th>\n",
       "      <td>banana</td>\n",
       "      <td>lettuce</td>\n",
       "    </tr>\n",
       "    <tr>\n",
       "      <th>3</th>\n",
       "      <td>strawberry</td>\n",
       "      <td>carrot</td>\n",
       "    </tr>\n",
       "  </tbody>\n",
       "</table>\n",
       "</div>"
      ],
      "text/plain": [
       "        Fruit   Veggies\n",
       "0  strawberry    carrot\n",
       "1       apple  broccoli\n",
       "2      banana   lettuce\n",
       "3  strawberry    carrot"
      ]
     },
     "execution_count": 142,
     "metadata": {},
     "output_type": "execute_result"
    }
   ],
   "source": [
    "simpledf = pd.DataFrame(dictionary)\n",
    "simpledf"
   ]
  },
  {
   "cell_type": "markdown",
   "metadata": {},
   "source": [
    "That's looking a lot better, however you may notice that it added some numbers along the side. This is what is known as the `index`. Essentially, it's just the name of every row, if you only want to create a 1D table (column names only) then this is fine. However, if you want to create more complex dataframes you will need to set the index to some values, typically an array."
   ]
  },
  {
   "cell_type": "code",
   "execution_count": 143,
   "metadata": {},
   "outputs": [
    {
     "data": {
      "text/html": [
       "<div>\n",
       "<style scoped>\n",
       "    .dataframe tbody tr th:only-of-type {\n",
       "        vertical-align: middle;\n",
       "    }\n",
       "\n",
       "    .dataframe tbody tr th {\n",
       "        vertical-align: top;\n",
       "    }\n",
       "\n",
       "    .dataframe thead th {\n",
       "        text-align: right;\n",
       "    }\n",
       "</style>\n",
       "<table border=\"1\" class=\"dataframe\">\n",
       "  <thead>\n",
       "    <tr style=\"text-align: right;\">\n",
       "      <th></th>\n",
       "      <th>Fruit</th>\n",
       "      <th>Veggies</th>\n",
       "    </tr>\n",
       "  </thead>\n",
       "  <tbody>\n",
       "    <tr>\n",
       "      <th>Good</th>\n",
       "      <td>strawberry</td>\n",
       "      <td>carrot</td>\n",
       "    </tr>\n",
       "    <tr>\n",
       "      <th>Bad</th>\n",
       "      <td>apple</td>\n",
       "      <td>broccoli</td>\n",
       "    </tr>\n",
       "    <tr>\n",
       "      <th>Ok</th>\n",
       "      <td>banana</td>\n",
       "      <td>lettuce</td>\n",
       "    </tr>\n",
       "    <tr>\n",
       "      <th>Personal Favs</th>\n",
       "      <td>strawberry</td>\n",
       "      <td>carrot</td>\n",
       "    </tr>\n",
       "  </tbody>\n",
       "</table>\n",
       "</div>"
      ],
      "text/plain": [
       "                    Fruit   Veggies\n",
       "Good           strawberry    carrot\n",
       "Bad                 apple  broccoli\n",
       "Ok                 banana   lettuce\n",
       "Personal Favs  strawberry    carrot"
      ]
     },
     "execution_count": 143,
     "metadata": {},
     "output_type": "execute_result"
    }
   ],
   "source": [
    "indexdata = ['Good', 'Bad', 'Ok', 'Personal Favs']\n",
    "simpledf = pd.DataFrame(dictionary, index=indexdata)\n",
    "simpledf"
   ]
  },
  {
   "cell_type": "markdown",
   "metadata": {},
   "source": [
    "For most data having an index is largely unnecessary as all important information can be encoded in columns so you won't need to worry too much about working with them for now. All of our lessons that utilize tabular data won't have named indices. Now that you have a simple DataFrame we can begin to use some of pandas powerful functions to manipulate it. Below are some of the most common pandas functions you will encounter that give powerful data analysis capabilities."
   ]
  },
  {
   "cell_type": "code",
   "execution_count": 145,
   "metadata": {},
   "outputs": [
    {
     "data": {
      "text/html": [
       "<div>\n",
       "<style scoped>\n",
       "    .dataframe tbody tr th:only-of-type {\n",
       "        vertical-align: middle;\n",
       "    }\n",
       "\n",
       "    .dataframe tbody tr th {\n",
       "        vertical-align: top;\n",
       "    }\n",
       "\n",
       "    .dataframe thead th {\n",
       "        text-align: right;\n",
       "    }\n",
       "</style>\n",
       "<table border=\"1\" class=\"dataframe\">\n",
       "  <thead>\n",
       "    <tr style=\"text-align: right;\">\n",
       "      <th></th>\n",
       "      <th>Fruit</th>\n",
       "      <th>Veggies</th>\n",
       "    </tr>\n",
       "  </thead>\n",
       "  <tbody>\n",
       "    <tr>\n",
       "      <th>count</th>\n",
       "      <td>4</td>\n",
       "      <td>4</td>\n",
       "    </tr>\n",
       "    <tr>\n",
       "      <th>unique</th>\n",
       "      <td>3</td>\n",
       "      <td>3</td>\n",
       "    </tr>\n",
       "    <tr>\n",
       "      <th>top</th>\n",
       "      <td>strawberry</td>\n",
       "      <td>carrot</td>\n",
       "    </tr>\n",
       "    <tr>\n",
       "      <th>freq</th>\n",
       "      <td>2</td>\n",
       "      <td>2</td>\n",
       "    </tr>\n",
       "  </tbody>\n",
       "</table>\n",
       "</div>"
      ],
      "text/plain": [
       "             Fruit Veggies\n",
       "count            4       4\n",
       "unique           3       3\n",
       "top     strawberry  carrot\n",
       "freq             2       2"
      ]
     },
     "execution_count": 145,
     "metadata": {},
     "output_type": "execute_result"
    }
   ],
   "source": [
    "# Generates some simple statistics about the dataset, for numerical data will include averages, etc.\n",
    "simpledf.describe()"
   ]
  },
  {
   "cell_type": "code",
   "execution_count": 147,
   "metadata": {},
   "outputs": [
    {
     "data": {
      "text/plain": [
       "Good             strawberry\n",
       "Bad                   apple\n",
       "Ok                   banana\n",
       "Personal Favs    strawberry\n",
       "Name: Fruit, dtype: object"
      ]
     },
     "execution_count": 147,
     "metadata": {},
     "output_type": "execute_result"
    }
   ],
   "source": [
    "#Brackets allow for easy selection of individual columns in pandas\n",
    "simpledf['Fruit']"
   ]
  },
  {
   "cell_type": "code",
   "execution_count": 151,
   "metadata": {},
   "outputs": [
    {
     "data": {
      "text/html": [
       "<div>\n",
       "<style scoped>\n",
       "    .dataframe tbody tr th:only-of-type {\n",
       "        vertical-align: middle;\n",
       "    }\n",
       "\n",
       "    .dataframe tbody tr th {\n",
       "        vertical-align: top;\n",
       "    }\n",
       "\n",
       "    .dataframe thead th {\n",
       "        text-align: right;\n",
       "    }\n",
       "</style>\n",
       "<table border=\"1\" class=\"dataframe\">\n",
       "  <thead>\n",
       "    <tr style=\"text-align: right;\">\n",
       "      <th></th>\n",
       "      <th>Fruit</th>\n",
       "      <th>Veggies</th>\n",
       "    </tr>\n",
       "  </thead>\n",
       "  <tbody>\n",
       "    <tr>\n",
       "      <th>Good</th>\n",
       "      <td>strawberry</td>\n",
       "      <td>carrot</td>\n",
       "    </tr>\n",
       "    <tr>\n",
       "      <th>Personal Favs</th>\n",
       "      <td>strawberry</td>\n",
       "      <td>carrot</td>\n",
       "    </tr>\n",
       "  </tbody>\n",
       "</table>\n",
       "</div>"
      ],
      "text/plain": [
       "                    Fruit Veggies\n",
       "Good           strawberry  carrot\n",
       "Personal Favs  strawberry  carrot"
      ]
     },
     "execution_count": 151,
     "metadata": {},
     "output_type": "execute_result"
    }
   ],
   "source": [
    "#Pandas supports python boolean logic to select certain values\n",
    "simpledf[simpledf.Fruit == 'strawberry']"
   ]
  },
  {
   "cell_type": "code",
   "execution_count": 152,
   "metadata": {},
   "outputs": [
    {
     "data": {
      "text/plain": [
       "strawberry    2\n",
       "apple         1\n",
       "banana        1\n",
       "Name: Fruit, dtype: int64"
      ]
     },
     "execution_count": 152,
     "metadata": {},
     "output_type": "execute_result"
    }
   ],
   "source": [
    "#value_counts counts the number of instances of a value within the dataframe\n",
    "simpledf.Fruit.value_counts()"
   ]
  },
  {
   "cell_type": "markdown",
   "metadata": {},
   "source": [
    "### Exploring your Data\n",
    "It's important to explore your data so that you can understand it before you begin to create a machine learning model. The easiest way to do this is with the `head` function in pandas. Simply call the `head` function on a dataframe to display the first five rows. If you need to see more you can also add a number inside the paretheses to display that many rows. Below you can see a display of our dataframe."
   ]
  },
  {
   "cell_type": "code",
   "execution_count": 15,
   "metadata": {},
   "outputs": [
    {
     "data": {
      "text/html": [
       "<div>\n",
       "<style scoped>\n",
       "    .dataframe tbody tr th:only-of-type {\n",
       "        vertical-align: middle;\n",
       "    }\n",
       "\n",
       "    .dataframe tbody tr th {\n",
       "        vertical-align: top;\n",
       "    }\n",
       "\n",
       "    .dataframe thead th {\n",
       "        text-align: right;\n",
       "    }\n",
       "</style>\n",
       "<table border=\"1\" class=\"dataframe\">\n",
       "  <thead>\n",
       "    <tr style=\"text-align: right;\">\n",
       "      <th></th>\n",
       "      <th>Suburb</th>\n",
       "      <th>Address</th>\n",
       "      <th>Rooms</th>\n",
       "      <th>Type</th>\n",
       "      <th>Price</th>\n",
       "      <th>Method</th>\n",
       "      <th>SellerG</th>\n",
       "      <th>Date</th>\n",
       "      <th>Distance</th>\n",
       "      <th>Postcode</th>\n",
       "      <th>...</th>\n",
       "      <th>Bathroom</th>\n",
       "      <th>Car</th>\n",
       "      <th>Landsize</th>\n",
       "      <th>BuildingArea</th>\n",
       "      <th>YearBuilt</th>\n",
       "      <th>CouncilArea</th>\n",
       "      <th>Lattitude</th>\n",
       "      <th>Longtitude</th>\n",
       "      <th>Regionname</th>\n",
       "      <th>Propertycount</th>\n",
       "    </tr>\n",
       "  </thead>\n",
       "  <tbody>\n",
       "    <tr>\n",
       "      <th>0</th>\n",
       "      <td>Abbotsford</td>\n",
       "      <td>68 Studley St</td>\n",
       "      <td>2</td>\n",
       "      <td>h</td>\n",
       "      <td>NaN</td>\n",
       "      <td>SS</td>\n",
       "      <td>Jellis</td>\n",
       "      <td>3/09/2016</td>\n",
       "      <td>2.5</td>\n",
       "      <td>3067.0</td>\n",
       "      <td>...</td>\n",
       "      <td>1.0</td>\n",
       "      <td>1.0</td>\n",
       "      <td>126.0</td>\n",
       "      <td>NaN</td>\n",
       "      <td>NaN</td>\n",
       "      <td>Yarra City Council</td>\n",
       "      <td>-37.8014</td>\n",
       "      <td>144.9958</td>\n",
       "      <td>Northern Metropolitan</td>\n",
       "      <td>4019.0</td>\n",
       "    </tr>\n",
       "    <tr>\n",
       "      <th>1</th>\n",
       "      <td>Abbotsford</td>\n",
       "      <td>85 Turner St</td>\n",
       "      <td>2</td>\n",
       "      <td>h</td>\n",
       "      <td>1480000.0</td>\n",
       "      <td>S</td>\n",
       "      <td>Biggin</td>\n",
       "      <td>3/12/2016</td>\n",
       "      <td>2.5</td>\n",
       "      <td>3067.0</td>\n",
       "      <td>...</td>\n",
       "      <td>1.0</td>\n",
       "      <td>1.0</td>\n",
       "      <td>202.0</td>\n",
       "      <td>NaN</td>\n",
       "      <td>NaN</td>\n",
       "      <td>Yarra City Council</td>\n",
       "      <td>-37.7996</td>\n",
       "      <td>144.9984</td>\n",
       "      <td>Northern Metropolitan</td>\n",
       "      <td>4019.0</td>\n",
       "    </tr>\n",
       "    <tr>\n",
       "      <th>2</th>\n",
       "      <td>Abbotsford</td>\n",
       "      <td>25 Bloomburg St</td>\n",
       "      <td>2</td>\n",
       "      <td>h</td>\n",
       "      <td>1035000.0</td>\n",
       "      <td>S</td>\n",
       "      <td>Biggin</td>\n",
       "      <td>4/02/2016</td>\n",
       "      <td>2.5</td>\n",
       "      <td>3067.0</td>\n",
       "      <td>...</td>\n",
       "      <td>1.0</td>\n",
       "      <td>0.0</td>\n",
       "      <td>156.0</td>\n",
       "      <td>79.0</td>\n",
       "      <td>1900.0</td>\n",
       "      <td>Yarra City Council</td>\n",
       "      <td>-37.8079</td>\n",
       "      <td>144.9934</td>\n",
       "      <td>Northern Metropolitan</td>\n",
       "      <td>4019.0</td>\n",
       "    </tr>\n",
       "    <tr>\n",
       "      <th>3</th>\n",
       "      <td>Abbotsford</td>\n",
       "      <td>18/659 Victoria St</td>\n",
       "      <td>3</td>\n",
       "      <td>u</td>\n",
       "      <td>NaN</td>\n",
       "      <td>VB</td>\n",
       "      <td>Rounds</td>\n",
       "      <td>4/02/2016</td>\n",
       "      <td>2.5</td>\n",
       "      <td>3067.0</td>\n",
       "      <td>...</td>\n",
       "      <td>2.0</td>\n",
       "      <td>1.0</td>\n",
       "      <td>0.0</td>\n",
       "      <td>NaN</td>\n",
       "      <td>NaN</td>\n",
       "      <td>Yarra City Council</td>\n",
       "      <td>-37.8114</td>\n",
       "      <td>145.0116</td>\n",
       "      <td>Northern Metropolitan</td>\n",
       "      <td>4019.0</td>\n",
       "    </tr>\n",
       "    <tr>\n",
       "      <th>4</th>\n",
       "      <td>Abbotsford</td>\n",
       "      <td>5 Charles St</td>\n",
       "      <td>3</td>\n",
       "      <td>h</td>\n",
       "      <td>1465000.0</td>\n",
       "      <td>SP</td>\n",
       "      <td>Biggin</td>\n",
       "      <td>4/03/2017</td>\n",
       "      <td>2.5</td>\n",
       "      <td>3067.0</td>\n",
       "      <td>...</td>\n",
       "      <td>2.0</td>\n",
       "      <td>0.0</td>\n",
       "      <td>134.0</td>\n",
       "      <td>150.0</td>\n",
       "      <td>1900.0</td>\n",
       "      <td>Yarra City Council</td>\n",
       "      <td>-37.8093</td>\n",
       "      <td>144.9944</td>\n",
       "      <td>Northern Metropolitan</td>\n",
       "      <td>4019.0</td>\n",
       "    </tr>\n",
       "  </tbody>\n",
       "</table>\n",
       "<p>5 rows × 21 columns</p>\n",
       "</div>"
      ],
      "text/plain": [
       "       Suburb             Address  Rooms Type      Price Method SellerG  \\\n",
       "0  Abbotsford       68 Studley St      2    h        NaN     SS  Jellis   \n",
       "1  Abbotsford        85 Turner St      2    h  1480000.0      S  Biggin   \n",
       "2  Abbotsford     25 Bloomburg St      2    h  1035000.0      S  Biggin   \n",
       "3  Abbotsford  18/659 Victoria St      3    u        NaN     VB  Rounds   \n",
       "4  Abbotsford        5 Charles St      3    h  1465000.0     SP  Biggin   \n",
       "\n",
       "        Date  Distance  Postcode      ...       Bathroom  Car  Landsize  \\\n",
       "0  3/09/2016       2.5    3067.0      ...            1.0  1.0     126.0   \n",
       "1  3/12/2016       2.5    3067.0      ...            1.0  1.0     202.0   \n",
       "2  4/02/2016       2.5    3067.0      ...            1.0  0.0     156.0   \n",
       "3  4/02/2016       2.5    3067.0      ...            2.0  1.0       0.0   \n",
       "4  4/03/2017       2.5    3067.0      ...            2.0  0.0     134.0   \n",
       "\n",
       "   BuildingArea  YearBuilt         CouncilArea Lattitude  Longtitude  \\\n",
       "0           NaN        NaN  Yarra City Council  -37.8014    144.9958   \n",
       "1           NaN        NaN  Yarra City Council  -37.7996    144.9984   \n",
       "2          79.0     1900.0  Yarra City Council  -37.8079    144.9934   \n",
       "3           NaN        NaN  Yarra City Council  -37.8114    145.0116   \n",
       "4         150.0     1900.0  Yarra City Council  -37.8093    144.9944   \n",
       "\n",
       "              Regionname Propertycount  \n",
       "0  Northern Metropolitan        4019.0  \n",
       "1  Northern Metropolitan        4019.0  \n",
       "2  Northern Metropolitan        4019.0  \n",
       "3  Northern Metropolitan        4019.0  \n",
       "4  Northern Metropolitan        4019.0  \n",
       "\n",
       "[5 rows x 21 columns]"
      ]
     },
     "execution_count": 15,
     "metadata": {},
     "output_type": "execute_result"
    }
   ],
   "source": [
    "df.head() #displays first five rows of the dataframe"
   ]
  },
  {
   "cell_type": "markdown",
   "metadata": {},
   "source": [
    "It's important to explore your data to gain valuable insights. For example, when creating our model we'll eventually have to choose which features we want to incorporate in price prediction. However, even irregardless of machine learning exploring data can provide powerful, actionable insights. For example, a data scientist may be contracted by a real estate company to find which sellers they should recruit. One way we could approach this problem is to see which sellers sold the most real estate using the `value_counts` function. This function counts the number of times that a value appears in the dataframe. In our case `SellerG` contains the name of the seller of the property, counting this value will tell us how much real estate a seller has sold."
   ]
  },
  {
   "cell_type": "code",
   "execution_count": 16,
   "metadata": {},
   "outputs": [
    {
     "data": {
      "text/plain": [
       "Jellis           3359\n",
       "Nelson           3236\n",
       "Barry            3235\n",
       "hockingstuart    2623\n",
       "Marshall         2027\n",
       "Name: SellerG, dtype: int64"
      ]
     },
     "execution_count": 16,
     "metadata": {},
     "output_type": "execute_result"
    }
   ],
   "source": [
    "top_sellers = df.SellerG.value_counts() #counts the instances of every unique seller and sorts them greatest to least\n",
    "top_sellers.head() #displays first five rows of data"
   ]
  },
  {
   "cell_type": "markdown",
   "metadata": {},
   "source": [
    "Now that our real estate company knows Jellis is a top seller they may also want to know the average price of a house sold by Jellis. We can do this by creating a new dataframe that contains only the rows of real estate sold by Jellis and then using the `mean` function to find the average price of real estate sold by Jellis."
   ]
  },
  {
   "cell_type": "code",
   "execution_count": 76,
   "metadata": {},
   "outputs": [
    {
     "name": "stdout",
     "output_type": "stream",
     "text": [
      "1350790.0284360189\n"
     ]
    }
   ],
   "source": [
    "Jellis = df[df.SellerG == 'Jellis'] #creates a new dataframe called Jellis made only of real estate sold by him\n",
    "\n",
    "jellisaverage = Jellis['Price'].mean() #takes the average price of all real estate sold by Jellis and stores it under jellisaverage\n",
    "\n",
    "print(jellisaverage) #prints the average price of all real estate sold by Jellis"
   ]
  },
  {
   "cell_type": "code",
   "execution_count": 77,
   "metadata": {},
   "outputs": [
    {
     "data": {
      "text/plain": [
       "300616.68348061084"
      ]
     },
     "execution_count": 77,
     "metadata": {},
     "output_type": "execute_result"
    }
   ],
   "source": [
    "#Finds the difference between the average price of houses sold by Jellis and the average selling price of all properties\n",
    "jellisaverage - df['Price'].mean()"
   ]
  },
  {
   "cell_type": "markdown",
   "metadata": {},
   "source": [
    "Jellis is looking like a good candidate for the job, the average property they sold was \\$300,000AUD (Australian dollars) more than the average property price in Melbourne. However, we can also create a simple function to see whether other sellers have larger average selling prices."
   ]
  },
  {
   "cell_type": "code",
   "execution_count": 108,
   "metadata": {},
   "outputs": [
    {
     "data": {
      "text/html": [
       "<div>\n",
       "<style scoped>\n",
       "    .dataframe tbody tr th:only-of-type {\n",
       "        vertical-align: middle;\n",
       "    }\n",
       "\n",
       "    .dataframe tbody tr th {\n",
       "        vertical-align: top;\n",
       "    }\n",
       "\n",
       "    .dataframe thead th {\n",
       "        text-align: right;\n",
       "    }\n",
       "</style>\n",
       "<table border=\"1\" class=\"dataframe\">\n",
       "  <thead>\n",
       "    <tr style=\"text-align: right;\">\n",
       "      <th></th>\n",
       "      <th>Average_Sale_Price</th>\n",
       "    </tr>\n",
       "  </thead>\n",
       "  <tbody>\n",
       "    <tr>\n",
       "      <th>For</th>\n",
       "      <td>3.780000e+06</td>\n",
       "    </tr>\n",
       "    <tr>\n",
       "      <th>Weast</th>\n",
       "      <td>3.320000e+06</td>\n",
       "    </tr>\n",
       "    <tr>\n",
       "      <th>Sotheby's</th>\n",
       "      <td>2.688409e+06</td>\n",
       "    </tr>\n",
       "    <tr>\n",
       "      <th>VICProp</th>\n",
       "      <td>2.415750e+06</td>\n",
       "    </tr>\n",
       "    <tr>\n",
       "      <th>Darras</th>\n",
       "      <td>2.410000e+06</td>\n",
       "    </tr>\n",
       "  </tbody>\n",
       "</table>\n",
       "</div>"
      ],
      "text/plain": [
       "           Average_Sale_Price\n",
       "For              3.780000e+06\n",
       "Weast            3.320000e+06\n",
       "Sotheby's        2.688409e+06\n",
       "VICProp          2.415750e+06\n",
       "Darras           2.410000e+06"
      ]
     },
     "execution_count": 108,
     "metadata": {},
     "output_type": "execute_result"
    }
   ],
   "source": [
    "pricedata = []\n",
    "sellers = df.SellerG.unique() #Creates an array conaining the name of every seller\n",
    "for value in sellers:\n",
    "    sellerdf = df[df.SellerG == value]\n",
    "    average = sellerdf['Price'].mean()\n",
    "    pricedata.append(average)\n",
    "sellersdf = pd.DataFrame({'Average_Sale_Price' : pricedata}, index=sellers)\n",
    "sellersdf = sellersdf.sort_values(by=['Average_Sale_Price'], ascending=False)\n",
    "sellersdf = sellersdf.dropna(axis=0)\n",
    "sellersdf.head()"
   ]
  },
  {
   "cell_type": "markdown",
   "metadata": {},
   "source": [
    "This looks like a pretty good result, we can see the top five sellers who sold properties for, on average, the most. However, it is helpful to more critically analyze the data before we make our final decision about who is the best seller. After all, one of these sellers could have sold only one expensive property which would artificially inflate the average sale price."
   ]
  },
  {
   "cell_type": "code",
   "execution_count": 129,
   "metadata": {},
   "outputs": [
    {
     "name": "stdout",
     "output_type": "stream",
     "text": [
      "5\n"
     ]
    }
   ],
   "source": [
    "count = 0\n",
    "for value in df.SellerG:\n",
    "    if value == 'Darras':\n",
    "        count += 1\n",
    "print(count)\n",
    "#1\n",
    "#1\n",
    "#18\n",
    "#4\n",
    "#5"
   ]
  },
  {
   "cell_type": "code",
   "execution_count": 80,
   "metadata": {},
   "outputs": [
    {
     "data": {
      "text/plain": [
       "Reservoir         844\n",
       "Bentleigh East    583\n",
       "Richmond          552\n",
       "Glen Iris         491\n",
       "Preston           485\n",
       "Name: Suburb, dtype: int64"
      ]
     },
     "execution_count": 80,
     "metadata": {},
     "output_type": "execute_result"
    }
   ],
   "source": [
    "top_suburbs = df.Suburb.value_counts()\n",
    "top_suburbs.head()"
   ]
  },
  {
   "cell_type": "markdown",
   "metadata": {},
   "source": [
    "### Cleaning your Data"
   ]
  },
  {
   "cell_type": "code",
   "execution_count": 15,
   "metadata": {},
   "outputs": [
    {
     "data": {
      "text/html": [
       "<div>\n",
       "<style scoped>\n",
       "    .dataframe tbody tr th:only-of-type {\n",
       "        vertical-align: middle;\n",
       "    }\n",
       "\n",
       "    .dataframe tbody tr th {\n",
       "        vertical-align: top;\n",
       "    }\n",
       "\n",
       "    .dataframe thead th {\n",
       "        text-align: right;\n",
       "    }\n",
       "</style>\n",
       "<table border=\"1\" class=\"dataframe\">\n",
       "  <thead>\n",
       "    <tr style=\"text-align: right;\">\n",
       "      <th></th>\n",
       "      <th>Rooms</th>\n",
       "      <th>Type</th>\n",
       "      <th>Bathroom</th>\n",
       "      <th>Landsize</th>\n",
       "      <th>Lattitude</th>\n",
       "      <th>Longtitude</th>\n",
       "    </tr>\n",
       "  </thead>\n",
       "  <tbody>\n",
       "    <tr>\n",
       "      <th>2</th>\n",
       "      <td>2</td>\n",
       "      <td>h</td>\n",
       "      <td>1.0</td>\n",
       "      <td>156.0</td>\n",
       "      <td>-37.8079</td>\n",
       "      <td>144.9934</td>\n",
       "    </tr>\n",
       "    <tr>\n",
       "      <th>4</th>\n",
       "      <td>3</td>\n",
       "      <td>h</td>\n",
       "      <td>2.0</td>\n",
       "      <td>134.0</td>\n",
       "      <td>-37.8093</td>\n",
       "      <td>144.9944</td>\n",
       "    </tr>\n",
       "    <tr>\n",
       "      <th>6</th>\n",
       "      <td>4</td>\n",
       "      <td>h</td>\n",
       "      <td>1.0</td>\n",
       "      <td>120.0</td>\n",
       "      <td>-37.8072</td>\n",
       "      <td>144.9941</td>\n",
       "    </tr>\n",
       "    <tr>\n",
       "      <th>11</th>\n",
       "      <td>3</td>\n",
       "      <td>h</td>\n",
       "      <td>2.0</td>\n",
       "      <td>245.0</td>\n",
       "      <td>-37.8024</td>\n",
       "      <td>144.9993</td>\n",
       "    </tr>\n",
       "    <tr>\n",
       "      <th>14</th>\n",
       "      <td>2</td>\n",
       "      <td>h</td>\n",
       "      <td>1.0</td>\n",
       "      <td>256.0</td>\n",
       "      <td>-37.8060</td>\n",
       "      <td>144.9954</td>\n",
       "    </tr>\n",
       "  </tbody>\n",
       "</table>\n",
       "</div>"
      ],
      "text/plain": [
       "    Rooms Type  Bathroom  Landsize  Lattitude  Longtitude\n",
       "2       2    h       1.0     156.0   -37.8079    144.9934\n",
       "4       3    h       2.0     134.0   -37.8093    144.9944\n",
       "6       4    h       1.0     120.0   -37.8072    144.9941\n",
       "11      3    h       2.0     245.0   -37.8024    144.9993\n",
       "14      2    h       1.0     256.0   -37.8060    144.9954"
      ]
     },
     "execution_count": 15,
     "metadata": {},
     "output_type": "execute_result"
    }
   ],
   "source": [
    "df = df.dropna(axis=0) #Edit this to include dropping before/after features column, other solutions, why this can be bad\n",
    "features = ['Rooms', 'Type', 'Bathroom', 'Landsize', 'Lattitude', 'Longtitude'] #Explain types of feature selection\n",
    "X = df[features]\n",
    "X.head()"
   ]
  },
  {
   "cell_type": "markdown",
   "metadata": {},
   "source": [
    "### Summary\n",
    "Today you learned how to..."
   ]
  },
  {
   "cell_type": "markdown",
   "metadata": {},
   "source": [
    "### Your Turn\n",
    "\n",
    "They say practice makes perfect, I don't know who \"they\" are but they're correct. Just click the link below to launch a practice notebook where you will explore a dataset containing ramen ratings and practice your newfound knowledge. Further instructions will be included in the notebook itelf.\n",
    "\n",
    "[![Binder](https://mybinder.org/badge_logo.svg)](https://mybinder.org/v2/gh/UncertainQubit/binder/master?filepath=lesson1_practice)"
   ]
  },
  {
   "cell_type": "markdown",
   "metadata": {},
   "source": [
    "### Stay Tuned\n",
    "Next technical stream we will be using the data that you explored today to create a basic machine learning model called a decision tree that will allow us to predict the average selling price of a home in Melbourne Australia. We will also begin to cover how to optimize your machine learning models for the best results. Soon, you will be able to apply the basics of machine learning to new, unique problems.\n",
    "\n",
    "We are also working on creating a custom challenge using a dataset of real estate sold in Boulder County to predict sale prices so stay tuned!"
   ]
  },
  {
   "cell_type": "markdown",
   "metadata": {},
   "source": [
    "### Additional Resources\n",
    "If you enjoyed exploring the data in today's lesson you can also try an optional extension notebook that will teach you how to use another popular library (seaborn) to create graphs and other visualizations of your data.\n",
    "\n",
    "![](https://mybinder.org/badge_logo.svg) Again, link not yet active.\n",
    "\n",
    "For more information on pandas view the resources below:\n",
    "* [Pandas Documentation](https://pandas.pydata.org/docs/) (Documentation of every pandas function and a great resource)\n",
    "\n",
    "For more information on python view the resources below:\n",
    "* [Python Cheatsheet](https://www.pythoncheatsheet.org/) (Quick reference for Python commands, data structures, etc.)\n",
    "\n",
    "For additional learning opportunities view the resources below:\n",
    "* [Kaggle Learn](https://www.kaggle.com/learn/overview) (Amazing tutorials on all subjects related to artificial intelligence)\n",
    "* [DatatoFish](https://datatofish.com/python-tutorials/) (Great tutorials related to data!)\n",
    "* [W3Schools](https://www.w3schools.com/python/default.asp) (Great explanations of python!)\n",
    "\n",
    "Random resources:\n",
    "* [Stack Overflow](https://stackoverflow.com/) (Always a great resource for questions)\n",
    "* [GeeksforGeeks](https://www.geeksforgeeks.org/) (Has some good examples of pandas)\n",
    "* [Binder](https://mybinder.org/) (Free resource that we use to host these notebooks and make them available to you)"
   ]
  }
 ],
 "metadata": {
  "kernelspec": {
   "display_name": "Python 3",
   "language": "python",
   "name": "python3"
  },
  "language_info": {
   "codemirror_mode": {
    "name": "ipython",
    "version": 3
   },
   "file_extension": ".py",
   "mimetype": "text/x-python",
   "name": "python",
   "nbconvert_exporter": "python",
   "pygments_lexer": "ipython3",
   "version": "3.6.4"
  }
 },
 "nbformat": 4,
 "nbformat_minor": 2
}
