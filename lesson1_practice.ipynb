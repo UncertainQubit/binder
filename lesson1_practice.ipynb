{
 "cells": [
  {
   "cell_type": "markdown",
   "metadata": {},
   "source": [
    "# Innovation Center AI Team Practice #1 - Data\n",
    "Today you learned how to use pandas, a popular data science library to explore and manipulate your data using a dataset of Melbourne real estate sales for practice. Today you will continue that practice by exploring some new data on your own and answering questions to test your understanding."
   ]
  },
  {
   "cell_type": "markdown",
   "metadata": {},
   "source": [
    "### Instructions\n",
    "This notebook is hosted using a free service called Binder and, because of limited computing resources, after 10min of inactivity notebooks will be closed and will not be saved. This means that if you need to step away from your project you should first download your notebook to save your progress. (Add instructions, screenshots, etc. and explain alternative methods, using on Anaconda, etc.)\n",
    "\n",
    "We have included a module called `lesson1_module` for code checking, just leave this code be. When you get to code that looks like `icai.check_#()` run it to receive feedback on your submission. Currently code checking will only tell you whether your code is right or wrong but if you are stuck you can run `icai.hint_#()` to receive a hint or `icai.soln_#()` to receive the solution. Good luck and have fun!"
   ]
  },
  {
   "cell_type": "code",
   "execution_count": 1,
   "metadata": {},
   "outputs": [],
   "source": [
    "import lesson1_module as icai\n",
    "import pandas as pd"
   ]
  },
  {
   "cell_type": "code",
   "execution_count": 2,
   "metadata": {},
   "outputs": [],
   "source": [
    "df = pd.read_csv('https://raw.githubusercontent.com/UncertainQubit/binder/master/Melbourne_housing_FULL.csv')"
   ]
  },
  {
   "cell_type": "code",
   "execution_count": 3,
   "metadata": {},
   "outputs": [
    {
     "name": "stdout",
     "output_type": "stream",
     "text": [
      "Correct!\n"
     ]
    }
   ],
   "source": [
    "icai.check_1(df)"
   ]
  },
  {
   "cell_type": "code",
   "execution_count": null,
   "metadata": {},
   "outputs": [],
   "source": []
  }
 ],
 "metadata": {
  "kernelspec": {
   "display_name": "Python 3",
   "language": "python",
   "name": "python3"
  },
  "language_info": {
   "codemirror_mode": {
    "name": "ipython",
    "version": 3
   },
   "file_extension": ".py",
   "mimetype": "text/x-python",
   "name": "python",
   "nbconvert_exporter": "python",
   "pygments_lexer": "ipython3",
   "version": "3.6.4"
  }
 },
 "nbformat": 4,
 "nbformat_minor": 2
}
