{
 "cells": [
  {
   "cell_type": "markdown",
   "metadata": {},
   "source": [
    "# Innovation Center AI Team Practice #1 - Data\n",
    "Today you learned how to use pandas, a popular data science library to explore and manipulate your data using a dataset of Melbourne real estate sales for practice. Today you will continue that practice by exploring some new data on your own and answering questions to test your understanding. In order to modify this notebook click the button below (unless you've already clicked one to come here in which case you're fine).\n",
    "\n",
    "[![Binder](https://mybinder.org/badge_logo.svg)](https://mybinder.org/v2/gh/UncertainQubit/binder/master?filepath=lesson1_practice)"
   ]
  },
  {
   "cell_type": "markdown",
   "metadata": {},
   "source": [
    "### Instructions\n",
    "This notebook is hosted using a free service called Binder and, because of limited computing resources, after 10min of inactivity notebooks will be closed and will not be saved. This means that if you need to step away from your project you should first download your notebook to save your progress. In order to download this notebook just click the button that says download and the notebook will be saved to your Downloads folder. If you are experienced using Github you can also use the link at the top to clone the repository to your local machine.\n",
    "\n",
    "![](https://raw.githubusercontent.com/UncertainQubit/firstrepo/master/JupyterHubDownload.PNG)\n",
    "\n",
    "After you've downloaded the notebook you have a few options depending on how you're accessing Jupyter. If you are using Binder once you're ready to resume your work click the button with a cloud and an up arrow next to the download button to upload your saved work and resume. If you are using an Anaconda distribution or a manually installed version of JupyterHub you can download this notebook to work on your local machine where saving functions will work. For more information on this see our first technical livestream. Finally, if you are part of a class at the Innovation Center and accessing this from our JupyterHub server then saving functions should work for you and you do **not** need to download the notebook.\n",
    "\n",
    "We have included a module called `lesson1_module` for code checking, just leave this code be. When you get to code that looks like `icai.check_#()` run it to receive feedback on your submission. Currently code checking will only tell you whether your code is right or wrong but if you are stuck you can run `icai.hint_#()` to receive a hint or `icai.soln_#()` to receive the solution. Good luck and have fun!"
   ]
  },
  {
   "cell_type": "markdown",
   "metadata": {},
   "source": [
    "### Setup\n",
    "Here we have included the basic code to import essential libraries. Now, it's your job to import the dataset and store it in a variable called `df`. The link to the dataset we will be using today is a collection of ramen ratings from the popular website [Ramen Rater](https://www.theramenrater.com/). The dataset is provided on Kaggle from user Aleksey Bilogur. The dataset is hosted in our Github repository and can be found here: https://raw.githubusercontent.com/UncertainQubit/binder/master/ramen-ratings.csv."
   ]
  },
  {
   "cell_type": "code",
   "execution_count": 9,
   "metadata": {},
   "outputs": [],
   "source": [
    "import lesson1_module as icai #Imports code-checking\n",
    "import pandas as pd #Imports pandas"
   ]
  },
  {
   "cell_type": "code",
   "execution_count": 11,
   "metadata": {},
   "outputs": [],
   "source": [
    "#Import your dataset and store it under the variable df\n",
    "df = \n",
    "\n",
    "#Uncomment the line below to check your answer.\n",
    "#icai.check_1(df)"
   ]
  },
  {
   "cell_type": "code",
   "execution_count": 9,
   "metadata": {},
   "outputs": [],
   "source": [
    "#For a hint or a solution uncomment the lines below\n",
    "#icai.hint_1()\n",
    "#icai.soln_1()"
   ]
  },
  {
   "cell_type": "code",
   "execution_count": null,
   "metadata": {},
   "outputs": [],
   "source": []
  }
 ],
 "metadata": {
  "kernelspec": {
   "display_name": "Python 3",
   "language": "python",
   "name": "python3"
  },
  "language_info": {
   "codemirror_mode": {
    "name": "ipython",
    "version": 3
   },
   "file_extension": ".py",
   "mimetype": "text/x-python",
   "name": "python",
   "nbconvert_exporter": "python",
   "pygments_lexer": "ipython3",
   "version": "3.7.6"
  }
 },
 "nbformat": 4,
 "nbformat_minor": 2
}
